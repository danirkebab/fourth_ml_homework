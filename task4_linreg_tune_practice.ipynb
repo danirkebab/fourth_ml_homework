{
 "cells": [
  {
   "cell_type": "markdown",
   "metadata": {
    "id": "BPhTNOy9vCKq"
   },
   "source": [
    "# Тюнинг линейной регрессии и ошибки"
   ]
  },
  {
   "cell_type": "markdown",
   "metadata": {
    "id": "hXG33a9qvCKv"
   },
   "source": [
    "### О задании\n",
    "\n",
    "В этом задании вы:\n",
    "- обучите линейную регрессию, познакомитесь с метриками качества в задачах регресии"
   ]
  },
  {
   "cell_type": "code",
   "execution_count": 1,
   "metadata": {
    "id": "e8L3kuUevCKw",
    "outputId": "e9a205e6-006a-4f62-877b-a6fd6ce8a968"
   },
   "outputs": [
    {
     "name": "stdout",
     "output_type": "stream",
     "text": [
      "Populating the interactive namespace from numpy and matplotlib\n"
     ]
    }
   ],
   "source": [
    "%pylab inline\n",
    "import pandas as pd\n",
    "\n",
    "from sklearn.base import BaseEstimator\n",
    "from sklearn.datasets import load_diabetes\n",
    "from sklearn.model_selection import train_test_split"
   ]
  },
  {
   "cell_type": "markdown",
   "metadata": {
    "id": "QDuL1zhIvCKy"
   },
   "source": [
    "## Часть 1. Линейная регрессия"
   ]
  },
  {
   "cell_type": "markdown",
   "metadata": {
    "id": "RYo-Szq9vCKy"
   },
   "source": [
    "Для начала загрузим данные и разделим их на обучающую и тестовую выборки в соотношении 7 к 3. Зачем так делать? Когда вы проверяете себя на данных на которых не обучались, вы можете быть уверены что не переобучились. Таким образом если качество на 70% датасета (оубчающей выборке) растёт, а на тестовой выборке падает, то модель начала запоминать датасет (переобучилась), вы что-то делаете не так.\n"
   ]
  },
  {
   "cell_type": "code",
   "execution_count": 2,
   "metadata": {
    "id": "NufqzjXJvCKz",
    "outputId": "2aa818de-dc8f-4012-b337-4d8e12ba02f0"
   },
   "outputs": [],
   "source": [
    "data = load_diabetes()\n",
    "X_train, X_test, y_train, y_test = train_test_split(data.data, data.target, train_size=0.7, random_state=241)"
   ]
  },
  {
   "cell_type": "markdown",
   "metadata": {
    "id": "ONYD7X8bvCKz"
   },
   "source": [
    "__Задание 1.__ Обучение линейной регрессии.\n",
    "\n",
    "**(4 балла)**\n",
    "\n",
    "Обучите линейную регрессию с $L_1$ (Lasso) и $L_2$ (Ridge) регуляризаторами (используйте параметры по умолчанию). Посмотрите, какое количество коэффициентов близко к 0 (степень близости к 0 определите сами из разумных пределов). Постройте график зависимости числа ненулевых коэффициентов от коэффицента регуляризации (перебирайте значения по логарифмической сетке от $10^{-3}$ до $10^3$).\n",
    "\n",
    "Спойлер - при большом гиперпараметре регуляризации все параметры стремятся к нулю. На графике это должно быть видно."
   ]
  },
  {
   "cell_type": "code",
   "execution_count": 3,
   "metadata": {
    "executionInfo": {
     "elapsed": 1295,
     "status": "ok",
     "timestamp": 1710533419989,
     "user": {
      "displayName": "Иван Капранов",
      "userId": "03211624233193923671"
     },
     "user_tz": -180
    },
    "id": "GdH50KgAvCK0"
   },
   "outputs": [],
   "source": [
    "from sklearn import datasets, linear_model\n",
    "from sklearn.linear_model import Ridge, Lasso\n",
    "import numpy as np"
   ]
  },
  {
   "cell_type": "code",
   "execution_count": 4,
   "metadata": {
    "id": "aBTkRAIAvCK0"
   },
   "outputs": [
    {
     "data": {
      "image/png": "[encoded data removed]",
      "text/plain": [
       "<Figure size 432x288 with 1 Axes>"
      ]
     },
     "metadata": {
      "needs_background": "light"
     },
     "output_type": "display_data"
    }
   ],
   "source": [
    "import matplotlib.pyplot as plt\n",
    "from IPython.display import clear_output\n",
    "samples = np.logspace(-3, 3, num = 1000)\n",
    "y1, y2 = [], []\n",
    "threshold = 0.6\n",
    "for sample in samples:\n",
    "    L1_regression = Lasso(alpha = sample)\n",
    "    L1_regression.fit(X_train, y_train)\n",
    "    y1.append(np.sum(abs(L1_regression.coef_) > threshold))\n",
    "\n",
    "    L2_regression = Ridge(alpha = sample)\n",
    "    L2_regression.fit(X_train, y_train)\n",
    "    y2.append(np.sum(abs(L2_regression.coef_) > threshold))\n",
    "plt.xscale('log')\n",
    "plt.plot(samples, y1, label='Lasso')\n",
    "plt.plot(samples, y2 ,label='Ridge')\n",
    "plt.legend()\n",
    "plt.grid()"
   ]
  },
  {
   "cell_type": "markdown",
   "metadata": {
    "id": "VZYylZonvCK1"
   },
   "source": [
    "Посчитайте для Ridge-регрессии следующие метрики: $RMSE$, $MAE$, $R^2$."
   ]
  },
  {
   "cell_type": "code",
   "execution_count": 5,
   "metadata": {
    "id": "rp_zUDLevCK1",
    "outputId": "b060c039-945a-4b8a-96aa-84c2b792d941"
   },
   "outputs": [],
   "source": [
    "from sklearn.model_selection import cross_val_score\n",
    "from sklearn.model_selection import cross_val_predict\n",
    "from sklearn.metrics import mean_squared_error as MSE\n",
    "from sklearn.metrics import mean_absolute_error as MAE\n",
    "from sklearn.metrics import r2_score as R2"
   ]
  },
  {
   "cell_type": "code",
   "execution_count": 6,
   "metadata": {
    "id": "gJAHFFTVvCK2"
   },
   "outputs": [
    {
     "name": "stdout",
     "output_type": "stream",
     "text": [
      "RMSE : 58.304415127748044\n",
      "MAE : 49.602846072753\n",
      "R2 : 0.3598993868368464\n"
     ]
    }
   ],
   "source": [
    "# code here\n",
    "L2_regression = Ridge()\n",
    "L2_regression.fit(X_train, y_train)\n",
    "prediction = L2_regression.predict(X_test)\n",
    "rmse = MSE(y_test,prediction) ** 0.5\n",
    "mae = MAE(y_test, prediction)\n",
    "r2 = R2(y_test, prediction)\n",
    "print(f'RMSE : {rmse}')\n",
    "print(f'MAE : {mae}')\n",
    "print(f'R2 : {r2}')"
   ]
  },
  {
   "cell_type": "markdown",
   "metadata": {
    "id": "zcqWr2KgvCK2"
   },
   "source": [
    "Подберите на обучающей выборке для Ridge-регрессии коэффициент регуляризации (перебирайте значения по логарифмической сетке от $10^{-3}$ до $10^3$) для каждой из метрик. Постройте графики зависимости фукнции потерь от коэффициента регуляризации. Посчитайте те же метрики снова. Заметно ли изменилось качество?"
   ]
  },
  {
   "cell_type": "code",
   "execution_count": 7,
   "metadata": {
    "id": "6NK6Cs_vvCK2"
   },
   "outputs": [
    {
     "data": {
      "image/png": "[encoded data removed]",
      "text/plain": [
       "<Figure size 432x288 with 1 Axes>"
      ]
     },
     "metadata": {
      "needs_background": "light"
     },
     "output_type": "display_data"
    }
   ],
   "source": [
    "samples = np.logspace(-3, 3, num = 1000)\n",
    "rmse, mae, r2 = [], [], []\n",
    "for sample in samples:\n",
    "    L2_regression = Ridge(alpha = sample)\n",
    "    L2_regression.fit(X_train, y_train)\n",
    "    prediction = L2_regression.predict(X_test)\n",
    "    rmse.append(MSE(y_test, prediction) ** 0.5)\n",
    "    mae.append(MAE(y_test, prediction))\n",
    "    r2.append(R2(y_test, prediction))\n",
    "plt.xscale('log')\n",
    "plt.plot(samples, rmse, label='RMSE')\n",
    "plt.plot(samples, mae ,label='MAE')\n",
    "plt.legend()\n",
    "plt.grid()"
   ]
  },
  {
   "cell_type": "code",
   "execution_count": 8,
   "metadata": {},
   "outputs": [
    {
     "data": {
      "image/png": "[encoded data removed]",
      "text/plain": [
       "<Figure size 432x288 with 1 Axes>"
      ]
     },
     "metadata": {
      "needs_background": "light"
     },
     "output_type": "display_data"
    }
   ],
   "source": [
    "plt.xscale('log')\n",
    "plt.plot(samples, r2 ,label='R2')\n",
    "plt.legend()\n",
    "plt.grid()"
   ]
  },
  {
   "cell_type": "markdown",
   "metadata": {
    "collapsed": true,
    "id": "N9Z0x4FGvCK2"
   },
   "source": [
    "__Задание 2.__ Поиск объектов-выбросов\n",
    "\n",
    "**(4 балла)**\n",
    "\n",
    "Как известно, MSE сильно штрафует за большие ошибки на объектах-выбросах. Посчитайте ошибки и посмотрите на их распределение (plt.hist). Что вы видите?"
   ]
  },
  {
   "cell_type": "code",
   "execution_count": 9,
   "metadata": {},
   "outputs": [],
   "source": [
    "data = load_diabetes()\n",
    "X_train, X_test, y_train, y_test = train_test_split(data.data, data.target, train_size=0.7, random_state=256)"
   ]
  },
  {
   "cell_type": "code",
   "execution_count": 12,
   "metadata": {
    "id": "P7Ol9mhLvCK3"
   },
   "outputs": [
    {
     "data": {
      "image/png": "[encoded data removed]",
      "text/plain": [
       "<Figure size 432x288 with 1 Axes>"
      ]
     },
     "metadata": {
      "needs_background": "light"
     },
     "output_type": "display_data"
    }
   ],
   "source": [
    "mse = []\n",
    "L2_regression = Ridge(alpha = 0.6)\n",
    "L2_regression.fit(X_train, y_train)\n",
    "prediction = L2_regression.predict(X_train)\n",
    "for i in range(len(y_train)):\n",
    "    mse.append((prediction[i] - y_train[i]) ** 2)\n",
    "plt.hist(mse)\n",
    "mse_n = np.array(mse)"
   ]
  },
  {
   "cell_type": "markdown",
   "metadata": {
    "id": "fH_cRHGvvCK3"
   },
   "source": [
    "Попробуйте удалить объекты-выбросы из обучающей выборки (что считать или не считать выбросами на ваше усмотрение). Обучите модель заново и посмотрите на качество на отложенной выборке (учитывайте, что там тоже могут быть выбросы, с которыми вы ничего не можете сделать). Стало ли лучше? Чем вы можете объяснить это?"
   ]
  },
  {
   "cell_type": "code",
   "execution_count": 13,
   "metadata": {},
   "outputs": [
    {
     "name": "stdout",
     "output_type": "stream",
     "text": [
      "99\n"
     ]
    }
   ],
   "source": [
    "top_percentile = 59\n",
    "x_train_new, y_train_new = X_train[mse_n < np.percentile(mse_n, top_percentile)], y_train[mse_n < np.percentile(mse_n, top_percentile)]\n",
    "L2_regression_new = Ridge(alpha = 0.6)\n",
    "L2_regression_new.fit(x_train_new, y_train_new)\n",
    "top_prediction = L2_regression_new.predict(X_test)\n",
    "for prcentile in range(60, 101):\n",
    "    x_train_new, y_train_new = X_train[mse_n < np.percentile(mse_n, prcentile)], y_train[mse_n < np.percentile(mse_n, prcentile)]\n",
    "    L2_regression_new = Ridge(alpha = 0.6)\n",
    "    L2_regression_new.fit(x_train_new, y_train_new)\n",
    "    prediction_new = L2_regression_new.predict(X_test)\n",
    "    if MSE(y_test, prediction_new) < MSE(y_test, top_prediction):\n",
    "        top_percentile = prcentile\n",
    "        top_prediction = prediction_new\n",
    "print(top_percentile)"
   ]
  },
  {
   "cell_type": "code",
   "execution_count": 14,
   "metadata": {
    "id": "NZuFNn4qvCK3"
   },
   "outputs": [
    {
     "name": "stdout",
     "output_type": "stream",
     "text": [
      "Before:\n",
      "RMSE: 54.5609218174342\n",
      "MAE: 47.73039303462776\n",
      "R2: 0.4271304001328706\n",
      "After:\n",
      "RMSE: 54.48438305778411\n",
      "MAE: 47.52331577210108\n",
      "R2: 0.4287365304099784\n"
     ]
    }
   ],
   "source": [
    "prediction = L2_regression.predict(X_test)\n",
    "print('Before:')\n",
    "print(f'RMSE: {MSE(y_test, prediction) ** 0.5}')\n",
    "print(f'MAE: {MAE(y_test, prediction)}')\n",
    "print(f'R2: {R2(y_test, prediction)}')\n",
    "x_train_new, y_train_new = X_train[mse_n < np.percentile(mse_n, top_percentile)], y_train[mse_n < np.percentile(mse_n, top_percentile)]\n",
    "L2_regression_new = Ridge(alpha = 0.6)\n",
    "L2_regression_new.fit(x_train_new, y_train_new)\n",
    "top_prediction = L2_regression_new.predict(X_test)\n",
    "print('After:')\n",
    "print(f'RMSE: {MSE(y_test, top_prediction) ** 0.5}')\n",
    "print(f'MAE: {MAE(y_test, top_prediction)}')\n",
    "print(f'R2: {R2(y_test, top_prediction)}')"
   ]
  },
  {
   "cell_type": "markdown",
   "metadata": {
    "id": "FcDTlr3FvCK3"
   },
   "source": [
    "__Задание 3.__ Отчёт\n",
    "\n",
    "**(2 балла)**"
   ]
  },
  {
   "cell_type": "markdown",
   "metadata": {},
   "source": [
    "Я попробовал удалять элементы с максимальной ошибкой в разных перцентилях, но перебрав все адекватные перцентили, понял, что лучше вообще не удалять ничего. Возможно это происходит так, потому что недостаточно данных и каждый объект даёт свой вклад в обученность на этом уровне. Но мне удалось пошаффлить тестовые данные, что ошибки стали чуть ниже(_RMSE = 58 -> 54, MAE = 49 -> 47_)"
   ]
  },
  {
   "cell_type": "code",
   "execution_count": null,
   "metadata": {},
   "outputs": [],
   "source": []
  }
 ],
 "metadata": {
  "colab": {
   "provenance": []
  },
  "kernelspec": {
   "display_name": "Python 3",
   "language": "python",
   "name": "python3"
  },
  "language_info": {
   "codemirror_mode": {
    "name": "ipython",
    "version": 3
   },
   "file_extension": ".py",
   "mimetype": "text/x-python",
   "name": "python",
   "nbconvert_exporter": "python",
   "pygments_lexer": "ipython3",
   "version": "3.8.8"
  }
 },
 "nbformat": 4,
 "nbformat_minor": 1
}
